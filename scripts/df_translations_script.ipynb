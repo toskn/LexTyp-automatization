{
 "cells": [
  {
   "cell_type": "code",
   "execution_count": 2,
   "metadata": {
    "pycharm": {
     "is_executing": false
    }
   },
   "outputs": [],
   "source": [
    "import pandas as pd \n",
    "from googletrans import Translator"
   ]
  },
  {
   "cell_type": "code",
   "execution_count": 3,
   "outputs": [
    {
     "data": {
      "text/plain": "     context  протяженный  точечный  1D  2D  3D  нет увенч.  увенч.  \\\n0       wall            1         0   1   0   0           0       0   \n1      gorge            1         0   1   0   0           0       0   \n2      ridge            1         0   1   0   0           0       0   \n3       wave            1         0   1   0   0           0       0   \n4  waterfall            1         0   1   0   0           0       0   \n\n   1D жесткий  1D мягкий  ...  верхушка.1  вершина.1  гребень.1  маковка.1  \\\n0           1          0  ...           1          1          1          0   \n1           1          0  ...           0          0          0          0   \n2           1          0  ...           0          0          0          0   \n3           0          1  ...           0          0          0          0   \n4           0          1  ...           1          1          1          0   \n\n   макушка.1  вершинка  пик  хребет  луковка  верховье  \n0          0         0    0       0        0         0  \n1          0         0    0       0        0         0  \n2          0         0    0       0        0         0  \n3          0         0    0       0        0         0  \n4          0         0    1       0        0         1  \n\n[5 rows x 25 columns]",
      "text/html": "<div>\n<style scoped>\n    .dataframe tbody tr th:only-of-type {\n        vertical-align: middle;\n    }\n\n    .dataframe tbody tr th {\n        vertical-align: top;\n    }\n\n    .dataframe thead th {\n        text-align: right;\n    }\n</style>\n<table border=\"1\" class=\"dataframe\">\n  <thead>\n    <tr style=\"text-align: right;\">\n      <th></th>\n      <th>context</th>\n      <th>протяженный</th>\n      <th>точечный</th>\n      <th>1D</th>\n      <th>2D</th>\n      <th>3D</th>\n      <th>нет увенч.</th>\n      <th>увенч.</th>\n      <th>1D жесткий</th>\n      <th>1D мягкий</th>\n      <th>...</th>\n      <th>верхушка.1</th>\n      <th>вершина.1</th>\n      <th>гребень.1</th>\n      <th>маковка.1</th>\n      <th>макушка.1</th>\n      <th>вершинка</th>\n      <th>пик</th>\n      <th>хребет</th>\n      <th>луковка</th>\n      <th>верховье</th>\n    </tr>\n  </thead>\n  <tbody>\n    <tr>\n      <th>0</th>\n      <td>wall</td>\n      <td>1</td>\n      <td>0</td>\n      <td>1</td>\n      <td>0</td>\n      <td>0</td>\n      <td>0</td>\n      <td>0</td>\n      <td>1</td>\n      <td>0</td>\n      <td>...</td>\n      <td>1</td>\n      <td>1</td>\n      <td>1</td>\n      <td>0</td>\n      <td>0</td>\n      <td>0</td>\n      <td>0</td>\n      <td>0</td>\n      <td>0</td>\n      <td>0</td>\n    </tr>\n    <tr>\n      <th>1</th>\n      <td>gorge</td>\n      <td>1</td>\n      <td>0</td>\n      <td>1</td>\n      <td>0</td>\n      <td>0</td>\n      <td>0</td>\n      <td>0</td>\n      <td>1</td>\n      <td>0</td>\n      <td>...</td>\n      <td>0</td>\n      <td>0</td>\n      <td>0</td>\n      <td>0</td>\n      <td>0</td>\n      <td>0</td>\n      <td>0</td>\n      <td>0</td>\n      <td>0</td>\n      <td>0</td>\n    </tr>\n    <tr>\n      <th>2</th>\n      <td>ridge</td>\n      <td>1</td>\n      <td>0</td>\n      <td>1</td>\n      <td>0</td>\n      <td>0</td>\n      <td>0</td>\n      <td>0</td>\n      <td>1</td>\n      <td>0</td>\n      <td>...</td>\n      <td>0</td>\n      <td>0</td>\n      <td>0</td>\n      <td>0</td>\n      <td>0</td>\n      <td>0</td>\n      <td>0</td>\n      <td>0</td>\n      <td>0</td>\n      <td>0</td>\n    </tr>\n    <tr>\n      <th>3</th>\n      <td>wave</td>\n      <td>1</td>\n      <td>0</td>\n      <td>1</td>\n      <td>0</td>\n      <td>0</td>\n      <td>0</td>\n      <td>0</td>\n      <td>0</td>\n      <td>1</td>\n      <td>...</td>\n      <td>0</td>\n      <td>0</td>\n      <td>0</td>\n      <td>0</td>\n      <td>0</td>\n      <td>0</td>\n      <td>0</td>\n      <td>0</td>\n      <td>0</td>\n      <td>0</td>\n    </tr>\n    <tr>\n      <th>4</th>\n      <td>waterfall</td>\n      <td>1</td>\n      <td>0</td>\n      <td>1</td>\n      <td>0</td>\n      <td>0</td>\n      <td>0</td>\n      <td>0</td>\n      <td>0</td>\n      <td>1</td>\n      <td>...</td>\n      <td>1</td>\n      <td>1</td>\n      <td>1</td>\n      <td>0</td>\n      <td>0</td>\n      <td>0</td>\n      <td>1</td>\n      <td>0</td>\n      <td>0</td>\n      <td>1</td>\n    </tr>\n  </tbody>\n</table>\n<p>5 rows × 25 columns</p>\n</div>"
     },
     "metadata": {},
     "output_type": "execute_result",
     "execution_count": 3
    }
   ],
   "source": [
    "translator = Translator()\n",
    "df_original = pd.read_csv(\"43.csv\", sep=';') \n",
    "df_original = df_original.fillna(value=0)\n",
    "df_original = df_original.rename(columns={\"Unnamed: 0\": \"context\"})\n",
    "df_original = df_original.replace('+', 1)\n",
    "df_original.head()"
   ],
   "metadata": {
    "collapsed": false,
    "pycharm": {
     "name": "#%%\n",
     "is_executing": false
    }
   }
  },
  {
   "cell_type": "code",
   "execution_count": 4,
   "outputs": [],
   "source": [
    "df_serbian = df_original.loc[:, ['context', 'протяженный', 'точечный',\n",
    "                                 '1D', '2D', '3D', 'нет увенч.', 'увенч.',\n",
    "                                 '1D жесткий', '1D мягкий']]\n",
    "df_french = df_original.loc[:, ['context', 'протяженный', 'точечный',\n",
    "                                '1D', '2D', '3D', 'нет увенч.', 'увенч.',\n",
    "                                '1D жесткий', '1D мягкий']]\n",
    "df_italian = df_original.loc[:, ['context', 'протяженный', 'точечный',\n",
    "                                 '1D', '2D', '3D', 'нет увенч.', 'увенч.',\n",
    "                                 '1D жесткий', '1D мягкий']]"
   ],
   "metadata": {
    "collapsed": false,
    "pycharm": {
     "name": "#%%\n",
     "is_executing": false
    }
   }
  },
  {
   "cell_type": "code",
   "execution_count": 20,
   "metadata": {
    "pycharm": {
     "is_executing": false
    }
   },
   "outputs": [],
   "source": [
    "# нужно поменять название языка, \n",
    "# чтобы перевод был на нужный язык\n",
    "#sr = сербский, fr = французский, it = итальянский\n",
    "def translate_context(cell):\n",
    "    return translate_google(cell, 'fr')"
   ]
  },
  {
   "cell_type": "code",
   "execution_count": 8,
   "outputs": [],
   "source": [
    "def translate_google(cell, lang):\n",
    "    translation_google = translator.translate(cell, dest=lang, src='en')\n",
    "    return translation_google.text"
   ],
   "metadata": {
    "collapsed": false,
    "pycharm": {
     "name": "#%%\n",
     "is_executing": false
    }
   }
  },
  {
   "cell_type": "code",
   "execution_count": 22,
   "outputs": [],
   "source": [
    "# нужно поменять/расскомментировать название датафрейма, чтобы переместить\n",
    "# в нем колонку перевода\n",
    "#df_serbian['context_yandex'] = df_original.apply()\n",
    "#df_serbian['context_google'] = df_original.context.apply(translate_context)\n",
    "\n",
    "#df_italian['context_yandex'] = df_original.apply()\n",
    "#df_italian['context_google'] = df_original.context.apply(translate_context)\n",
    "\n",
    "#df_french['context_yandex'] = df_original.apply()\n",
    "df_french['context_google'] = df_original.context.apply(translate_context)"
   ],
   "metadata": {
    "collapsed": false,
    "pycharm": {
     "name": "#%%\n",
     "is_executing": false
    }
   }
  },
  {
   "cell_type": "code",
   "execution_count": 24,
   "outputs": [],
   "source": [
    "df_abby = pd.read_csv(\"42_updated_only_good_translations.csv\", sep=';') \n",
    "\n"
   ],
   "metadata": {
    "collapsed": false,
    "pycharm": {
     "name": "#%%\n",
     "is_executing": false
    }
   }
  },
  {
   "cell_type": "code",
   "execution_count": 25,
   "outputs": [
    {
     "name": "stderr",
     "text": [
      "/Users/egor/.conda/envs/prgrm18/lib/python3.7/site-packages/ipykernel_launcher.py:1: SettingWithCopyWarning: \n",
      "A value is trying to be set on a copy of a slice from a DataFrame.\n",
      "Try using .loc[row_indexer,col_indexer] = value instead\n",
      "\n",
      "See the caveats in the documentation: https://pandas.pydata.org/pandas-docs/stable/user_guide/indexing.html#returning-a-view-versus-a-copy\n",
      "  \"\"\"Entry point for launching an IPython kernel.\n",
      "/Users/egor/.conda/envs/prgrm18/lib/python3.7/site-packages/ipykernel_launcher.py:2: SettingWithCopyWarning: \n",
      "A value is trying to be set on a copy of a slice from a DataFrame.\n",
      "Try using .loc[row_indexer,col_indexer] = value instead\n",
      "\n",
      "See the caveats in the documentation: https://pandas.pydata.org/pandas-docs/stable/user_guide/indexing.html#returning-a-view-versus-a-copy\n",
      "  \n"
     ],
     "output_type": "stream"
    }
   ],
   "source": [
    "df_italian['context_abby'] = df_abby['ru-it']\n",
    "df_french['context_abby'] = df_abby['ru-fr']\n"
   ],
   "metadata": {
    "collapsed": false,
    "pycharm": {
     "name": "#%%\n",
     "is_executing": false
    }
   }
  },
  {
   "cell_type": "code",
   "execution_count": 28,
   "outputs": [],
   "source": [
    "# нужно поменять название датафрейма, чтобы переместить\n",
    "# в нем колонку перевода\n",
    "df_italian = df_italian[['context', 'context_google', 'context_abby',\n",
    "   'протяженный',\n",
    "    'точечный',\n",
    "    '1D',\n",
    "    '2D',\n",
    "    '3D',\n",
    "    'нет увенч.',\n",
    "    'увенч.',\n",
    "    '1D жесткий',\n",
    "    '1D мягкий']]"
   ],
   "metadata": {
    "collapsed": false,
    "pycharm": {
     "name": "#%%\n",
     "is_executing": false
    }
   }
  },
  {
   "cell_type": "code",
   "execution_count": 30,
   "outputs": [],
   "source": [
    "df_italian.to_csv(r'df_translations_italian.csv', index = False)\n",
    "df_french.to_csv(r'df_translations_french.csv', index = False)\n",
    "df_serbian.to_csv(r'df_translations_serbian.csv', index = False)"
   ],
   "metadata": {
    "collapsed": false,
    "pycharm": {
     "name": "#%%\n",
     "is_executing": false
    }
   }
  },
  {
   "cell_type": "code",
   "execution_count": null,
   "outputs": [],
   "source": [
    "\n"
   ],
   "metadata": {
    "collapsed": false,
    "pycharm": {
     "name": "#%%\n"
    }
   }
  }
 ],
 "metadata": {
  "kernelspec": {
   "display_name": "Python 3",
   "language": "python",
   "name": "python3"
  },
  "language_info": {
   "codemirror_mode": {
    "name": "ipython",
    "version": 3
   },
   "file_extension": ".py",
   "mimetype": "text/x-python",
   "name": "python",
   "nbconvert_exporter": "python",
   "pygments_lexer": "ipython3",
   "version": "3.7.4"
  },
  "pycharm": {
   "stem_cell": {
    "cell_type": "raw",
    "source": [],
    "metadata": {
     "collapsed": false
    }
   }
  }
 },
 "nbformat": 4,
 "nbformat_minor": 2
}